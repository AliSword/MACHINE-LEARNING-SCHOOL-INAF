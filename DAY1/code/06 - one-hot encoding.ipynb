{
 "cells": [
  {
   "cell_type": "markdown",
   "metadata": {},
   "source": [
    "# Example of how one-hot encoding works\n",
    "\n",
    "Author: Umberto Michelucci"
   ]
  },
  {
   "cell_type": "code",
   "execution_count": 8,
   "metadata": {},
   "outputs": [],
   "source": [
    "from sklearn.datasets import load_iris\n",
    "from sklearn.preprocessing import OneHotEncoder\n",
    "\n",
    "from sklearn.linear_model import LogisticRegression\n",
    "from sklearn.model_selection import train_test_split\n",
    "from sklearn.preprocessing import OneHotEncoder"
   ]
  },
  {
   "cell_type": "markdown",
   "metadata": {},
   "source": [
    "We will use the Iris dataset for this small test. Here is a brief description.\n",
    "\n",
    "---\n",
    "## Iris Dataset Overview\n",
    "\n",
    "The Iris dataset is a classic and widely used dataset in the field of machine learning and statistics. It was introduced by the British statistician and biologist Ronald Fisher in 1936.\n",
    "\n",
    "### Key Features\n",
    "\n",
    "- **Data Points**: The dataset contains 150 data points, divided equally among three species of Iris flowers: Iris setosa, Iris versicolor, and Iris virginica.\n",
    "- **Features**: There are four features measured in centimeters for each sample:\n",
    "  - Sepal Length\n",
    "  - Sepal Width\n",
    "  - Petal Length\n",
    "  - Petal Width\n",
    "- **Target Variable**: The species of the Iris plant. The dataset includes three classes:\n",
    "  1. Iris setosa\n",
    "  2. Iris versicolor\n",
    "  3. Iris virginica\n",
    "\n",
    "### Usage\n",
    "\n",
    "The Iris dataset is often used in data science and machine learning, particularly for:\n",
    "- Demonstrating classification algorithms.\n",
    "- Teaching data visualization and exploratory data analysis.\n",
    "- Testing data preprocessing techniques.\n",
    "\n",
    "### Significance\n",
    "\n",
    "Its simplicity and small size make the Iris dataset ideal for beginners to learn the fundamentals of machine learning and pattern recognition.\n",
    "\n",
    "---"
   ]
  },
  {
   "cell_type": "code",
   "execution_count": 10,
   "metadata": {},
   "outputs": [],
   "source": [
    "# Load the Iris dataset\n",
    "iris = load_iris()\n",
    "X, y = iris.data, iris.target"
   ]
  },
  {
   "cell_type": "code",
   "execution_count": 11,
   "metadata": {},
   "outputs": [
    {
     "data": {
      "text/plain": [
       "array([0, 0, 0, 0, 0, 0, 0, 0, 0, 0])"
      ]
     },
     "execution_count": 11,
     "metadata": {},
     "output_type": "execute_result"
    }
   ],
   "source": [
    "y[0:10]"
   ]
  },
  {
   "cell_type": "markdown",
   "metadata": {},
   "source": [
    "Did you notice that the labels are not shuffled but sorted? Do you think this may be a problem?"
   ]
  },
  {
   "cell_type": "code",
   "execution_count": 12,
   "metadata": {},
   "outputs": [
    {
     "name": "stdout",
     "output_type": "stream",
     "text": [
      "[[1. 0. 0.]\n",
      " [1. 0. 0.]\n",
      " [1. 0. 0.]\n",
      " [1. 0. 0.]\n",
      " [1. 0. 0.]\n",
      " [1. 0. 0.]\n",
      " [1. 0. 0.]\n",
      " [1. 0. 0.]\n",
      " [1. 0. 0.]\n",
      " [1. 0. 0.]]\n"
     ]
    },
    {
     "name": "stderr",
     "output_type": "stream",
     "text": [
      "/Users/umberto/miniforge3/envs/tf2/lib/python3.9/site-packages/sklearn/preprocessing/_encoders.py:808: FutureWarning: `sparse` was renamed to `sparse_output` in version 1.2 and will be removed in 1.4. `sparse_output` is ignored unless you leave `sparse` to its default value.\n",
      "  warnings.warn(\n"
     ]
    }
   ],
   "source": [
    "# The y array currently contains integers representing the classes.\n",
    "# We will now convert these class labels into one-hot encoded format.\n",
    "# Initialize the OneHotEncoder\n",
    "encoder = OneHotEncoder(sparse=False)  # sparse=False to get a dense matrix\n",
    "\n",
    "# Reshape y to 2D array as fit_transform expects 2D array\n",
    "y = y.reshape(-1, 1)\n",
    "\n",
    "# Apply the encoder on the reshaped y\n",
    "y_one_hot = encoder.fit_transform(y)\n",
    "\n",
    "# y_one_hot now contains the one-hot encoded labels\n",
    "print(y_one_hot[0:10])\n"
   ]
  }
 ],
 "metadata": {
  "kernelspec": {
   "display_name": "tf2",
   "language": "python",
   "name": "python3"
  },
  "language_info": {
   "codemirror_mode": {
    "name": "ipython",
    "version": 3
   },
   "file_extension": ".py",
   "mimetype": "text/x-python",
   "name": "python",
   "nbconvert_exporter": "python",
   "pygments_lexer": "ipython3",
   "version": "3.9.15"
  },
  "orig_nbformat": 4
 },
 "nbformat": 4,
 "nbformat_minor": 2
}
