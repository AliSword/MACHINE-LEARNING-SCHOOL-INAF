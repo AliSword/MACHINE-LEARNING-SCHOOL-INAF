{
 "cells": [
  {
   "cell_type": "code",
   "execution_count": 2,
   "metadata": {},
   "outputs": [],
   "source": [
    "import numpy as np\n",
    "import pandas as pd\n",
    "from sklearn.datasets import load_iris\n",
    "from sklearn.model_selection import train_test_split\n",
    "from sklearn.linear_model import LogisticRegression\n",
    "from sklearn.metrics import accuracy_score"
   ]
  },
  {
   "cell_type": "code",
   "execution_count": 3,
   "metadata": {},
   "outputs": [],
   "source": [
    "# Load a sample dataset (you can replace this with your own dataset)\n",
    "data = load_iris()\n",
    "X = pd.DataFrame(data.data, columns=data.feature_names)\n",
    "y = pd.Series(data.target)\n",
    "\n",
    "# Split the dataset into training and testing sets\n",
    "X_train, X_test, y_train, y_test = train_test_split(X, y, test_size=0.2, random_state=42)"
   ]
  },
  {
   "cell_type": "code",
   "execution_count": 4,
   "metadata": {},
   "outputs": [],
   "source": [
    "# Initialize an empty list to store selected features\n"
   ]
  },
  {
   "cell_type": "code",
   "execution_count": 11,
   "metadata": {},
   "outputs": [
    {
     "data": {
      "text/plain": [
       "Index(['sepal length (cm)', 'sepal width (cm)', 'petal length (cm)',\n",
       "       'petal width (cm)'],\n",
       "      dtype='object')"
      ]
     },
     "execution_count": 11,
     "metadata": {},
     "output_type": "execute_result"
    }
   ],
   "source": [
    "X_train.columns"
   ]
  },
  {
   "cell_type": "code",
   "execution_count": 29,
   "metadata": {},
   "outputs": [],
   "source": [
    "# Create a function to perform forward feature selection\n",
    "def forward_feature_selection(X_train, X_test, y_train, y_test, selected_features):\n",
    "    selected_features = []\n",
    "    best_accuracy = 0\n",
    "    best_feature = None\n",
    "\n",
    "    print(selected_features)\n",
    "    \n",
    "    while True:\n",
    "        remaining_features = [feature for feature in X_train.columns if feature not in selected_features]\n",
    "        if not remaining_features:\n",
    "            break\n",
    "\n",
    "        print(selected_features)\n",
    "        \n",
    "        for feature in remaining_features:\n",
    "            current_features = selected_features + [feature]\n",
    "            \n",
    "            # Train a model with the current set of features\n",
    "            model = LogisticRegression()\n",
    "            model.fit(X_train[current_features], y_train)\n",
    "            \n",
    "            # Make predictions on the test set\n",
    "            y_pred = model.predict(X_test[current_features])\n",
    "            \n",
    "            # Calculate accuracy\n",
    "            accuracy = accuracy_score(y_test, y_pred)\n",
    "            print(accuracy)\n",
    "            \n",
    "            # Check if this set of features improves accuracy\n",
    "            if accuracy >= best_accuracy:\n",
    "                best_accuracy = accuracy\n",
    "                best_feature = feature\n",
    "        \n",
    "        if best_feature:\n",
    "            selected_features.append(best_feature)\n",
    "            #print(f\"Selected feature: {best_feature}, Accuracy: {best_accuracy:.2f}\")\n",
    "        else:\n",
    "            break"
   ]
  },
  {
   "cell_type": "code",
   "execution_count": 30,
   "metadata": {},
   "outputs": [
    {
     "name": "stdout",
     "output_type": "stream",
     "text": [
      "[]\n",
      "[]\n",
      "0.8333333333333334\n",
      "0.6\n",
      "1.0\n",
      "1.0\n",
      "['petal width (cm)']\n",
      "1.0\n",
      "1.0\n",
      "1.0\n",
      "['petal width (cm)', 'petal length (cm)']\n",
      "1.0\n",
      "1.0\n",
      "['petal width (cm)', 'petal length (cm)', 'sepal width (cm)']\n",
      "1.0\n",
      "Selected features: ['petal length (cm)', 'petal length (cm)', 'petal length (cm)', 'petal length (cm)', 'petal length (cm)', 'petal length (cm)', 'petal length (cm)', 'petal length (cm)', 'petal length (cm)', 'petal length (cm)', 'petal length (cm)', 'petal length (cm)', 'petal length (cm)', 'petal length (cm)', 'petal length (cm)', 'petal length (cm)', 'petal length (cm)', 'petal length (cm)', 'petal length (cm)', 'petal length (cm)', 'petal length (cm)', 'petal length (cm)', 'petal length (cm)', 'petal length (cm)', 'petal length (cm)', 'petal length (cm)', 'petal length (cm)', 'petal length (cm)', 'petal length (cm)', 'petal length (cm)', 'petal length (cm)', 'petal length (cm)', 'petal length (cm)', 'petal length (cm)', 'petal length (cm)', 'petal length (cm)', 'petal length (cm)', 'petal length (cm)', 'petal length (cm)', 'petal length (cm)', 'petal length (cm)', 'petal length (cm)', 'petal length (cm)', 'petal length (cm)', 'petal length (cm)', 'petal length (cm)', 'petal length (cm)', 'petal length (cm)', 'petal length (cm)', 'petal length (cm)', 'petal length (cm)', 'petal length (cm)', 'petal length (cm)', 'petal length (cm)', 'petal length (cm)', 'petal length (cm)', 'petal length (cm)', 'petal length (cm)', 'petal length (cm)', 'petal length (cm)', 'petal length (cm)', 'petal length (cm)', 'petal length (cm)', 'petal length (cm)', 'petal length (cm)', 'petal length (cm)', 'petal length (cm)', 'petal length (cm)', 'petal length (cm)', 'petal length (cm)', 'petal length (cm)', 'petal length (cm)', 'petal length (cm)', 'petal length (cm)', 'petal length (cm)', 'petal length (cm)', 'petal length (cm)', 'petal length (cm)', 'petal length (cm)', 'petal length (cm)', 'petal length (cm)', 'petal length (cm)', 'petal length (cm)', 'petal length (cm)', 'petal length (cm)', 'petal length (cm)', 'petal length (cm)', 'petal length (cm)', 'petal length (cm)', 'petal length (cm)', 'petal length (cm)', 'petal length (cm)', 'petal length (cm)', 'petal length (cm)', 'petal length (cm)', 'petal length (cm)', 'petal length (cm)', 'petal length (cm)', 'petal length (cm)', 'petal length (cm)', 'petal length (cm)', 'petal length (cm)', 'petal length (cm)', 'petal length (cm)', 'petal length (cm)', 'petal length (cm)', 'petal length (cm)', 'petal length (cm)', 'petal length (cm)', 'petal length (cm)', 'petal length (cm)', 'petal length (cm)', 'petal length (cm)', 'petal length (cm)', 'petal length (cm)', 'petal length (cm)', 'petal length (cm)', 'petal length (cm)', 'petal length (cm)', 'petal length (cm)', 'petal length (cm)', 'petal length (cm)', 'petal length (cm)', 'petal length (cm)', 'petal length (cm)', 'petal length (cm)', 'petal length (cm)', 'petal length (cm)', 'petal length (cm)', 'petal length (cm)', 'petal length (cm)', 'petal length (cm)', 'petal length (cm)', 'petal length (cm)', 'petal length (cm)', 'petal length (cm)', 'petal length (cm)', 'petal length (cm)', 'petal length (cm)', 'petal length (cm)', 'petal length (cm)', 'petal length (cm)', 'petal length (cm)', 'petal length (cm)', 'petal length (cm)', 'petal length (cm)', 'petal length (cm)', 'petal length (cm)', 'petal length (cm)', 'petal length (cm)', 'petal length (cm)', 'petal length (cm)', 'petal length (cm)', 'petal length (cm)', 'petal length (cm)', 'petal length (cm)', 'petal length (cm)', 'petal length (cm)', 'petal length (cm)', 'petal length (cm)', 'petal length (cm)', 'petal length (cm)', 'petal length (cm)', 'petal length (cm)', 'petal length (cm)', 'petal length (cm)', 'petal length (cm)', 'petal length (cm)', 'petal length (cm)', 'petal length (cm)', 'petal length (cm)', 'petal length (cm)', 'petal length (cm)', 'petal length (cm)', 'petal length (cm)', 'petal length (cm)', 'petal length (cm)', 'petal length (cm)', 'petal length (cm)', 'petal length (cm)', 'petal length (cm)', 'petal length (cm)', 'petal length (cm)', 'petal length (cm)', 'petal length (cm)', 'petal length (cm)', 'petal length (cm)', 'petal length (cm)', 'petal length (cm)', 'petal length (cm)', 'petal length (cm)', 'petal length (cm)', 'petal length (cm)', 'petal length (cm)', 'petal length (cm)', 'petal length (cm)', 'petal length (cm)', 'petal length (cm)', 'petal length (cm)', 'petal length (cm)', 'petal length (cm)', 'petal length (cm)', 'petal length (cm)', 'petal length (cm)', 'petal length (cm)', 'petal length (cm)', 'petal length (cm)', 'petal length (cm)', 'petal length (cm)', 'petal length (cm)', 'petal length (cm)', 'petal length (cm)', 'petal length (cm)', 'petal length (cm)', 'petal length (cm)', 'petal length (cm)', 'petal length (cm)', 'petal length (cm)', 'petal length (cm)', 'petal length (cm)', 'petal length (cm)', 'petal length (cm)', 'petal length (cm)', 'petal length (cm)', 'petal length (cm)', 'petal length (cm)', 'petal length (cm)', 'petal length (cm)', 'petal length (cm)', 'petal length (cm)', 'petal length (cm)', 'petal length (cm)', 'petal length (cm)', 'petal length (cm)', 'petal length (cm)', 'petal length (cm)', 'petal length (cm)', 'petal length (cm)', 'petal length (cm)', 'petal length (cm)', 'petal length (cm)', 'petal length (cm)', 'petal length (cm)', 'petal length (cm)', 'petal length (cm)', 'petal length (cm)', 'petal length (cm)', 'petal length (cm)', 'petal length (cm)', 'petal length (cm)', 'petal length (cm)', 'petal length (cm)', 'petal length (cm)', 'petal length (cm)', 'petal length (cm)', 'petal length (cm)', 'petal length (cm)', 'petal length (cm)', 'petal length (cm)', 'petal length (cm)', 'petal length (cm)', 'petal length (cm)', 'petal length (cm)', 'petal length (cm)', 'petal length (cm)', 'petal length (cm)', 'petal length (cm)', 'petal length (cm)', 'petal length (cm)', 'petal length (cm)', 'petal length (cm)', 'petal length (cm)', 'petal length (cm)', 'petal length (cm)', 'petal length (cm)', 'petal length (cm)', 'petal length (cm)', 'petal length (cm)', 'petal length (cm)', 'petal length (cm)', 'petal length (cm)', 'petal length (cm)', 'petal length (cm)', 'petal length (cm)', 'petal length (cm)', 'petal length (cm)', 'petal length (cm)', 'petal length (cm)', 'petal length (cm)', 'petal length (cm)', 'petal length (cm)', 'petal length (cm)', 'petal length (cm)', 'petal length (cm)', 'petal length (cm)', 'petal length (cm)', 'petal length (cm)', 'petal length (cm)', 'petal length (cm)', 'petal length (cm)', 'petal length (cm)', 'petal length (cm)', 'petal length (cm)', 'petal length (cm)', 'petal length (cm)', 'petal length (cm)', 'petal length (cm)', 'petal length (cm)', 'petal length (cm)', 'petal length (cm)', 'petal length (cm)', 'petal length (cm)', 'petal length (cm)', 'petal length (cm)', 'petal length (cm)', 'petal length (cm)', 'petal length (cm)', 'petal length (cm)', 'petal length (cm)', 'petal length (cm)', 'petal length (cm)', 'petal length (cm)', 'petal length (cm)', 'petal length (cm)', 'petal length (cm)', 'petal length (cm)', 'petal length (cm)', 'petal length (cm)', 'petal length (cm)', 'petal length (cm)', 'petal length (cm)', 'petal length (cm)', 'petal length (cm)', 'petal length (cm)', 'petal length (cm)', 'petal length (cm)', 'petal length (cm)', 'petal length (cm)', 'petal length (cm)', 'petal length (cm)', 'petal length (cm)', 'petal length (cm)', 'petal length (cm)', 'petal length (cm)', 'petal length (cm)', 'petal length (cm)', 'petal length (cm)', 'petal length (cm)', 'petal length (cm)', 'petal length (cm)', 'petal length (cm)', 'petal length (cm)', 'petal length (cm)', 'petal length (cm)', 'petal length (cm)', 'petal length (cm)', 'petal length (cm)', 'petal length (cm)', 'petal length (cm)', 'petal length (cm)', 'petal length (cm)', 'petal length (cm)', 'petal length (cm)', 'petal length (cm)', 'petal length (cm)', 'petal length (cm)', 'petal length (cm)', 'petal length (cm)', 'petal length (cm)', 'petal length (cm)', 'petal length (cm)', 'petal length (cm)', 'petal length (cm)', 'petal length (cm)', 'petal length (cm)', 'petal length (cm)', 'petal length (cm)', 'petal length (cm)', 'petal length (cm)', 'petal length (cm)', 'petal length (cm)', 'petal length (cm)', 'petal length (cm)', 'petal length (cm)', 'petal length (cm)', 'petal length (cm)', 'petal length (cm)', 'petal length (cm)', 'petal length (cm)', 'petal length (cm)', 'petal length (cm)', 'petal length (cm)', 'petal length (cm)', 'petal length (cm)', 'petal length (cm)', 'petal length (cm)', 'petal length (cm)', 'petal length (cm)', 'petal length (cm)', 'petal length (cm)', 'petal length (cm)', 'petal length (cm)', 'petal length (cm)', 'petal length (cm)', 'petal length (cm)', 'petal length (cm)', 'petal length (cm)', 'petal length (cm)', 'petal length (cm)', 'petal length (cm)', 'petal length (cm)', 'petal length (cm)', 'petal length (cm)', 'petal length (cm)', 'petal length (cm)', 'petal length (cm)', 'petal length (cm)', 'petal length (cm)', 'petal length (cm)', 'petal length (cm)', 'petal length (cm)', 'petal length (cm)', 'petal length (cm)', 'petal length (cm)', 'petal length (cm)', 'petal length (cm)', 'petal length (cm)', 'petal length (cm)', 'petal length (cm)', 'petal length (cm)', 'petal length (cm)', 'petal length (cm)', 'petal length (cm)', 'petal length (cm)', 'petal length (cm)', 'petal length (cm)', 'petal length (cm)', 'petal length (cm)', 'petal length (cm)', 'petal length (cm)', 'petal length (cm)', 'petal length (cm)', 'petal length (cm)', 'petal length (cm)', 'petal length (cm)', 'petal length (cm)', 'petal length (cm)', 'petal length (cm)', 'petal length (cm)', 'petal length (cm)', 'petal length (cm)', 'petal length (cm)', 'petal length (cm)', 'petal length (cm)', 'petal length (cm)', 'petal length (cm)', 'petal length (cm)', 'petal length (cm)', 'petal length (cm)', 'petal length (cm)', 'petal length (cm)', 'petal length (cm)', 'petal length (cm)', 'petal length (cm)', 'petal length (cm)', 'petal length (cm)', 'petal length (cm)', 'petal length (cm)', 'petal length (cm)', 'petal length (cm)', 'petal length (cm)', 'petal length (cm)', 'petal length (cm)', 'petal length (cm)', 'petal length (cm)', 'petal length (cm)', 'petal length (cm)', 'petal length (cm)', 'petal length (cm)', 'petal length (cm)', 'petal length (cm)', 'petal length (cm)', 'petal length (cm)', 'petal length (cm)', 'petal length (cm)', 'petal length (cm)', 'petal length (cm)', 'petal length (cm)', 'petal length (cm)', 'petal length (cm)', 'petal length (cm)', 'petal length (cm)', 'petal length (cm)', 'petal length (cm)', 'petal length (cm)', 'petal length (cm)', 'petal length (cm)', 'petal length (cm)', 'petal length (cm)', 'petal length (cm)', 'petal length (cm)', 'petal length (cm)', 'petal length (cm)', 'petal length (cm)', 'petal length (cm)', 'petal length (cm)', 'petal length (cm)', 'petal length (cm)', 'petal length (cm)', 'petal length (cm)', 'petal length (cm)', 'petal length (cm)', 'petal length (cm)', 'petal length (cm)', 'petal length (cm)', 'petal length (cm)', 'petal length (cm)', 'petal length (cm)', 'petal length (cm)', 'petal length (cm)', 'petal length (cm)', 'petal length (cm)', 'petal length (cm)', 'petal length (cm)', 'petal length (cm)', 'petal length (cm)', 'petal length (cm)', 'petal length (cm)', 'petal length (cm)', 'petal length (cm)', 'petal length (cm)', 'petal length (cm)', 'petal length (cm)', 'petal length (cm)', 'petal length (cm)', 'petal length (cm)', 'petal length (cm)', 'petal length (cm)', 'petal length (cm)', 'petal length (cm)', 'petal length (cm)', 'petal length (cm)', 'petal length (cm)', 'petal length (cm)', 'petal length (cm)', 'petal length (cm)', 'petal length (cm)', 'petal length (cm)', 'petal length (cm)', 'petal length (cm)', 'petal length (cm)', 'petal length (cm)', 'petal length (cm)', 'petal length (cm)', 'petal length (cm)', 'petal length (cm)', 'petal length (cm)', 'petal length (cm)', 'petal length (cm)', 'petal length (cm)', 'petal length (cm)', 'petal length (cm)', 'petal length (cm)', 'petal length (cm)', 'petal length (cm)', 'petal length (cm)', 'petal length (cm)', 'petal length (cm)', 'petal length (cm)', 'petal length (cm)', 'petal length (cm)', 'petal length (cm)', 'petal length (cm)', 'petal length (cm)', 'petal length (cm)', 'petal length (cm)', 'petal length (cm)', 'petal length (cm)', 'petal length (cm)', 'petal length (cm)', 'petal length (cm)', 'petal length (cm)', 'petal length (cm)', 'petal length (cm)', 'petal length (cm)', 'petal length (cm)', 'petal length (cm)', 'petal length (cm)', 'petal length (cm)', 'petal length (cm)', 'petal length (cm)', 'petal length (cm)', 'petal length (cm)', 'petal length (cm)', 'petal length (cm)', 'petal length (cm)', 'petal length (cm)', 'petal length (cm)', 'petal length (cm)', 'petal length (cm)', 'petal length (cm)', 'petal length (cm)', 'petal length (cm)', 'petal length (cm)', 'petal length (cm)', 'petal length (cm)', 'petal length (cm)', 'petal length (cm)', 'petal length (cm)', 'petal length (cm)', 'petal length (cm)', 'petal length (cm)', 'petal length (cm)', 'petal length (cm)', 'petal length (cm)', 'petal length (cm)', 'petal length (cm)', 'petal length (cm)', 'petal length (cm)', 'petal length (cm)', 'petal length (cm)', 'petal length (cm)', 'petal length (cm)', 'petal length (cm)', 'petal length (cm)', 'petal length (cm)', 'petal length (cm)', 'petal length (cm)', 'petal length (cm)', 'petal length (cm)', 'petal length (cm)', 'petal length (cm)', 'petal length (cm)', 'petal length (cm)', 'petal length (cm)', 'petal length (cm)', 'petal length (cm)', 'petal length (cm)', 'petal length (cm)', 'petal length (cm)', 'petal length (cm)', 'petal length (cm)', 'petal length (cm)', 'petal length (cm)', 'petal length (cm)', 'petal length (cm)', 'petal length (cm)', 'petal length (cm)', 'petal length (cm)', 'petal length (cm)', 'petal length (cm)', 'petal length (cm)', 'petal length (cm)', 'petal length (cm)', 'petal length (cm)', 'petal length (cm)', 'petal length (cm)', 'petal length (cm)', 'petal length (cm)', 'petal length (cm)', 'petal length (cm)', 'petal length (cm)', 'petal length (cm)', 'petal length (cm)', 'petal length (cm)', 'petal length (cm)', 'petal length (cm)', 'petal length (cm)', 'petal length (cm)', 'petal length (cm)', 'petal length (cm)', 'petal length (cm)', 'petal length (cm)', 'petal length (cm)', 'petal length (cm)', 'petal length (cm)', 'petal length (cm)', 'petal length (cm)', 'petal length (cm)', 'petal length (cm)', 'petal length (cm)', 'petal length (cm)', 'petal length (cm)', 'petal length (cm)', 'petal length (cm)', 'petal length (cm)', 'petal length (cm)', 'petal length (cm)', 'petal length (cm)', 'petal length (cm)', 'petal length (cm)', 'petal length (cm)', 'petal length (cm)', 'petal length (cm)', 'petal length (cm)', 'petal length (cm)', 'petal length (cm)', 'petal length (cm)', 'petal length (cm)', 'petal length (cm)', 'petal length (cm)', 'petal length (cm)', 'petal length (cm)', 'petal length (cm)', 'petal length (cm)', 'petal length (cm)', 'petal length (cm)', 'petal length (cm)', 'petal length (cm)', 'petal length (cm)', 'petal length (cm)', 'petal length (cm)', 'petal length (cm)', 'petal length (cm)', 'petal length (cm)', 'petal length (cm)', 'petal length (cm)', 'petal length (cm)', 'petal length (cm)', 'petal length (cm)', 'petal length (cm)', 'petal length (cm)', 'petal length (cm)', 'petal length (cm)', 'petal length (cm)', 'petal length (cm)', 'petal length (cm)', 'petal length (cm)', 'petal length (cm)', 'petal length (cm)', 'petal length (cm)', 'petal length (cm)', 'petal length (cm)', 'petal length (cm)', 'petal length (cm)', 'petal length (cm)', 'petal length (cm)', 'petal length (cm)', 'petal length (cm)', 'petal length (cm)', 'petal length (cm)', 'petal length (cm)', 'petal length (cm)', 'petal length (cm)', 'petal length (cm)', 'petal length (cm)', 'petal length (cm)', 'petal length (cm)', 'petal length (cm)', 'petal length (cm)', 'petal length (cm)', 'petal length (cm)', 'petal length (cm)', 'petal length (cm)', 'petal length (cm)', 'petal length (cm)', 'petal length (cm)', 'petal length (cm)', 'petal length (cm)', 'petal length (cm)', 'petal length (cm)', 'petal length (cm)', 'petal length (cm)', 'petal length (cm)', 'petal length (cm)', 'petal length (cm)', 'petal length (cm)', 'petal length (cm)', 'petal length (cm)', 'petal length (cm)', 'petal length (cm)', 'petal length (cm)', 'petal length (cm)', 'petal length (cm)', 'petal length (cm)', 'petal length (cm)', 'petal length (cm)', 'petal length (cm)', 'petal length (cm)', 'petal length (cm)', 'petal length (cm)', 'petal length (cm)', 'petal length (cm)', 'petal length (cm)', 'petal length (cm)', 'petal length (cm)', 'petal length (cm)', 'petal length (cm)', 'petal length (cm)', 'petal length (cm)', 'petal length (cm)', 'petal length (cm)', 'petal length (cm)', 'petal length (cm)', 'petal length (cm)', 'petal length (cm)', 'petal length (cm)', 'petal length (cm)', 'petal length (cm)', 'petal length (cm)', 'petal length (cm)', 'petal length (cm)', 'petal length (cm)', 'petal length (cm)', 'petal length (cm)', 'petal length (cm)', 'petal length (cm)', 'petal length (cm)', 'petal length (cm)', 'petal length (cm)', 'petal length (cm)', 'petal length (cm)', 'petal length (cm)', 'petal length (cm)', 'petal length (cm)', 'petal length (cm)', 'petal length (cm)', 'petal length (cm)', 'petal length (cm)', 'petal length (cm)', 'petal length (cm)', 'petal length (cm)', 'petal length (cm)', 'petal length (cm)', 'petal length (cm)', 'petal length (cm)', 'petal length (cm)', 'petal length (cm)', 'petal length (cm)', 'petal length (cm)', 'petal length (cm)', 'petal length (cm)', 'petal length (cm)', 'petal length (cm)', 'petal length (cm)', 'petal length (cm)', 'petal length (cm)', 'petal length (cm)', 'petal length (cm)', 'petal length (cm)', 'petal length (cm)', 'sepal length (cm)', 'sepal length (cm)', 'sepal length (cm)', 'sepal length (cm)', 'sepal length (cm)', 'sepal length (cm)', 'sepal length (cm)', 'sepal length (cm)', 'sepal length (cm)', 'sepal length (cm)', 'sepal length (cm)', 'sepal length (cm)', 'sepal length (cm)', 'sepal length (cm)', 'sepal length (cm)', 'sepal length (cm)', 'sepal length (cm)', 'sepal length (cm)', 'sepal length (cm)', 'sepal length (cm)', 'sepal length (cm)', 'petal width (cm)', 'petal width (cm)', 'petal width (cm)', 'petal width (cm)', 'petal width (cm)', 'petal width (cm)', 'petal width (cm)', 'petal width (cm)', 'petal width (cm)', 'petal width (cm)', 'petal width (cm)', 'petal width (cm)', 'petal width (cm)', 'petal width (cm)', 'petal width (cm)', 'petal width (cm)', 'petal width (cm)', 'petal width (cm)', 'petal width (cm)', 'petal width (cm)', 'petal width (cm)', 'petal width (cm)', 'petal width (cm)', 'petal width (cm)', 'petal width (cm)', 'petal width (cm)', 'petal width (cm)', 'petal width (cm)', 'petal width (cm)', 'petal width (cm)', 'petal width (cm)', 'petal width (cm)', 'petal width (cm)', 'petal width (cm)', 'petal width (cm)', 'petal width (cm)', 'petal width (cm)', 'petal width (cm)', 'petal width (cm)', 'petal width (cm)', 'petal width (cm)', 'petal width (cm)', 'petal width (cm)', 'petal width (cm)', 'petal width (cm)', 'petal width (cm)', 'petal width (cm)', 'petal width (cm)', 'petal width (cm)', 'petal width (cm)', 'petal width (cm)', 'petal width (cm)', 'petal width (cm)', 'petal width (cm)', 'petal width (cm)', 'petal width (cm)', 'petal width (cm)', 'petal width (cm)', 'petal width (cm)', 'petal width (cm)', 'petal width (cm)', 'petal width (cm)', 'petal width (cm)', 'petal width (cm)', 'petal width (cm)', 'petal width (cm)', 'petal width (cm)', 'petal width (cm)', 'petal width (cm)', 'petal width (cm)', 'petal width (cm)', 'petal width (cm)', 'petal width (cm)', 'petal width (cm)', 'petal width (cm)', 'petal width (cm)', 'petal width (cm)', 'petal width (cm)', 'petal width (cm)', 'petal width (cm)', 'petal width (cm)', 'petal width (cm)', 'petal width (cm)', 'petal width (cm)', 'petal width (cm)', 'petal width (cm)', 'petal width (cm)', 'petal width (cm)', 'petal width (cm)', 'petal width (cm)', 'petal width (cm)', 'petal width (cm)', 'petal width (cm)', 'petal width (cm)', 'petal width (cm)', 'petal width (cm)', 'petal width (cm)', 'petal width (cm)', 'petal width (cm)', 'petal width (cm)', 'petal width (cm)', 'petal width (cm)', 'petal width (cm)', 'petal width (cm)', 'petal width (cm)', 'petal width (cm)', 'petal width (cm)', 'petal width (cm)', 'petal width (cm)', 'petal width (cm)', 'petal width (cm)', 'petal width (cm)', 'petal width (cm)', 'petal width (cm)', 'petal width (cm)', 'petal width (cm)', 'petal width (cm)', 'petal width (cm)', 'petal width (cm)', 'petal width (cm)', 'petal width (cm)', 'petal width (cm)', 'petal width (cm)', 'petal width (cm)', 'petal width (cm)', 'petal width (cm)', 'petal width (cm)', 'petal width (cm)', 'petal width (cm)', 'petal width (cm)', 'petal width (cm)', 'petal width (cm)', 'petal width (cm)', 'petal width (cm)', 'petal width (cm)', 'petal width (cm)', 'petal width (cm)', 'petal width (cm)', 'petal width (cm)', 'petal width (cm)', 'petal width (cm)', 'petal width (cm)', 'petal width (cm)', 'petal width (cm)', 'petal width (cm)', 'petal width (cm)', 'petal width (cm)', 'petal width (cm)', 'petal width (cm)', 'petal width (cm)', 'petal width (cm)', 'petal width (cm)', 'petal width (cm)', 'petal width (cm)', 'petal width (cm)', 'petal width (cm)', 'petal width (cm)', 'petal width (cm)', 'petal width (cm)', 'petal width (cm)', 'petal width (cm)', 'petal width (cm)', 'petal width (cm)', 'petal width (cm)', 'petal width (cm)', 'petal width (cm)', 'petal width (cm)', 'petal width (cm)', 'petal width (cm)', 'petal width (cm)', 'petal width (cm)', 'petal width (cm)', 'petal width (cm)', 'petal width (cm)', 'petal width (cm)', 'petal width (cm)', 'petal width (cm)', 'petal width (cm)', 'petal width (cm)', 'petal width (cm)', 'petal width (cm)', 'petal width (cm)', 'petal width (cm)', 'petal width (cm)', 'petal width (cm)', 'petal width (cm)', 'petal width (cm)', 'petal width (cm)', 'petal width (cm)', 'petal width (cm)', 'petal width (cm)', 'petal width (cm)', 'petal width (cm)', 'sepal width (cm)']\n"
     ]
    },
    {
     "name": "stderr",
     "output_type": "stream",
     "text": [
      "/Users/umberto/miniforge3/envs/tf-jan24/lib/python3.11/site-packages/sklearn/linear_model/_logistic.py:460: ConvergenceWarning: lbfgs failed to converge (status=1):\n",
      "STOP: TOTAL NO. of ITERATIONS REACHED LIMIT.\n",
      "\n",
      "Increase the number of iterations (max_iter) or scale the data as shown in:\n",
      "    https://scikit-learn.org/stable/modules/preprocessing.html\n",
      "Please also refer to the documentation for alternative solver options:\n",
      "    https://scikit-learn.org/stable/modules/linear_model.html#logistic-regression\n",
      "  n_iter_i = _check_optimize_result(\n",
      "/Users/umberto/miniforge3/envs/tf-jan24/lib/python3.11/site-packages/sklearn/linear_model/_logistic.py:460: ConvergenceWarning: lbfgs failed to converge (status=1):\n",
      "STOP: TOTAL NO. of ITERATIONS REACHED LIMIT.\n",
      "\n",
      "Increase the number of iterations (max_iter) or scale the data as shown in:\n",
      "    https://scikit-learn.org/stable/modules/preprocessing.html\n",
      "Please also refer to the documentation for alternative solver options:\n",
      "    https://scikit-learn.org/stable/modules/linear_model.html#logistic-regression\n",
      "  n_iter_i = _check_optimize_result(\n"
     ]
    }
   ],
   "source": [
    "# Perform forward feature selection\n",
    "forward_feature_selection(X_train, X_test, y_train, y_test, selected_features)\n",
    "\n",
    "# The 'selected_features' list now contains the best set of features\n",
    "print(\"Selected features:\", selected_features)\n"
   ]
  },
  {
   "cell_type": "code",
   "execution_count": null,
   "metadata": {},
   "outputs": [],
   "source": []
  }
 ],
 "metadata": {
  "kernelspec": {
   "display_name": "tf-jan24",
   "language": "python",
   "name": "python3"
  },
  "language_info": {
   "codemirror_mode": {
    "name": "ipython",
    "version": 3
   },
   "file_extension": ".py",
   "mimetype": "text/x-python",
   "name": "python",
   "nbconvert_exporter": "python",
   "pygments_lexer": "ipython3",
   "version": "3.11.7"
  }
 },
 "nbformat": 4,
 "nbformat_minor": 2
}
