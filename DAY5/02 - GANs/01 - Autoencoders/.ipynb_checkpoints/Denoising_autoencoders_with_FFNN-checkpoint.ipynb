{
 "cells": [
  {
   "cell_type": "markdown",
   "metadata": {
    "id": "SWC0YkH3cihY"
   },
   "source": [
    "# Denoising Images with Autoencoders based on Feed-Forward Neural Networks\n",
    "\n",
    "Version 1.1"
   ]
  },
  {
   "cell_type": "markdown",
   "metadata": {
    "id": "CLOk1q8ucv62"
   },
   "source": [
    "(C) 2020 - Umberto Michelucci, Michela Sperti\n",
    "\n",
    "This notebook is part of the book _Applied Deep Learning: a case based approach, **2nd edition**_ from APRESS by [U. Michelucci](mailto:umberto.michelucci@toelt.ai) and [M. Sperti](mailto:michela.sperti@toelt.ai)."
   ]
  },
  {
   "cell_type": "markdown",
   "metadata": {
    "id": "SOwKpjNNc_WP"
   },
   "source": [
    "The purpose of this notebook is to give an example of Autoencoders implemented with feed-forward neural networks applied to denoise images. The example dataset is taken from the real world."
   ]
  },
  {
   "cell_type": "markdown",
   "metadata": {
    "id": "u2Zun-gidyHi"
   },
   "source": [
    "## Notebook Learning Goals"
   ]
  },
  {
   "cell_type": "markdown",
   "metadata": {
    "id": "bRuG2eoEd0vM"
   },
   "source": [
    "At the end of the notebook you will be able to implement yourself an autoencoder to be applied in a denoising problem (with feed-forward neural networks). It is very instructive to compare this notebook with *Denoising_autoencoders_with_CNN.ipynb* since they both solve the same problem, but with a different autoencoder architecture."
   ]
  },
  {
   "cell_type": "markdown",
   "metadata": {
    "id": "uCWc0b0sel3P"
   },
   "source": [
    "## Libraries and Dataset Import"
   ]
  },
  {
   "cell_type": "markdown",
   "metadata": {
    "id": "jcb_HmYOeumM"
   },
   "source": [
    "This section contains the necessary libraries (such as tensorflow or pandas) you need to import to run the notebook."
   ]
  },
  {
   "cell_type": "code",
   "execution_count": 23,
   "metadata": {
    "id": "4-ex3Pb1LBxY"
   },
   "outputs": [],
   "source": [
    "# general libraries\n",
    "import matplotlib\n",
    "import matplotlib.pyplot as plt\n",
    "import numpy as np\n",
    "from random import *\n",
    "\n",
    "# tensorflow libraries\n",
    "import tensorflow.keras as keras\n",
    "from tensorflow.keras.datasets import mnist\n",
    "from tensorflow.keras.models import Sequential\n",
    "from tensorflow.keras.layers import Input, Dense\n",
    "from tensorflow.keras.models import Model\n",
    "from tensorflow.keras import backend as K\n",
    "from tensorflow.keras.utils import plot_model"
   ]
  },
  {
   "cell_type": "markdown",
   "metadata": {
    "id": "LSBMq4WKfQEP"
   },
   "source": [
    "### MNIST Dataset"
   ]
  },
  {
   "cell_type": "markdown",
   "metadata": {
    "id": "n0Mwf3Zhfnnq"
   },
   "source": [
    "For this notebook we will use the [MNIST Dataset](http://yann.lecun.com/exdb/mnist/). You can check the dataset with the previous link. It can be easily imported using Keras. Below you can see how easy it is to download it using [```tensorflow.keras.datasets```](https://www.tensorflow.org/api_docs/python/tf/keras/datasets)."
   ]
  },
  {
   "cell_type": "code",
   "execution_count": 24,
   "metadata": {
    "colab": {
     "base_uri": "https://localhost:8080/"
    },
    "executionInfo": {
     "elapsed": 2596,
     "status": "ok",
     "timestamp": 1615226493583,
     "user": {
      "displayName": "Michela Sperti",
      "photoUrl": "https://lh3.googleusercontent.com/a-/AOh14Gh7mD9r-1Xj0Qve63ZPZx9UHRv0PkVhL5ayiHNv=s64",
      "userId": "13210266879998244642"
     },
     "user_tz": -60
    },
    "id": "1C_DLqCRLNHs",
    "outputId": "cfcc3fa6-9ce2-48f6-e9a4-8c83a69ccb85"
   },
   "outputs": [],
   "source": [
    "# Load MNIST dataset\n",
    "(input_train, target_train), (input_test, target_test) = mnist.load_data()"
   ]
  },
  {
   "cell_type": "code",
   "execution_count": 25,
   "metadata": {
    "id": "zQmozOX0h3tA"
   },
   "outputs": [],
   "source": [
    "# Reshape data based on channels first / channels last strategy.\n",
    "# This is dependent on whether you use TF, Theano or CNTK as backend.\n",
    "# Source: https://github.com/keras-team/keras/blob/master/examples/mnist_cnn.py\n",
    "\n",
    "img_width, img_height = 28, 28\n",
    "\n",
    "if K.image_data_format() == 'channels_first':\n",
    "    input_train = input_train.reshape(input_train.shape[0], 1, img_width, img_height)\n",
    "    input_test = input_test.reshape(input_test.shape[0], 1, img_width, img_height)\n",
    "    input_shape = (1, img_width, img_height)\n",
    "else:\n",
    "    input_train = input_train.reshape(input_train.shape[0], img_width, img_height, 1)\n",
    "    input_test = input_test.reshape(input_test.shape[0], img_width, img_height, 1)\n",
    "    input_shape = (img_width, img_height, 1)"
   ]
  },
  {
   "cell_type": "markdown",
   "metadata": {
    "id": "1Mqnau0AgM1G"
   },
   "source": [
    "As usual we will do the typical normalisation of the datasets as you can see below. At this point in the book you should be able to understand the code below easily."
   ]
  },
  {
   "cell_type": "code",
   "execution_count": 26,
   "metadata": {
    "id": "yHzORnSYgIu2"
   },
   "outputs": [],
   "source": [
    "# Parse numbers as floats\n",
    "input_train = input_train.astype('float32')\n",
    "input_test = input_test.astype('float32')\n",
    "\n",
    "# Normalize data\n",
    "input_train = input_train / 255\n",
    "input_test = input_test / 255\n",
    "\n",
    "input_train = input_train.reshape((len(input_train), np.prod(input_train.shape[1:])))\n",
    "input_test = input_test.reshape((len(input_test), np.prod(input_test.shape[1:])))"
   ]
  },
  {
   "cell_type": "markdown",
   "metadata": {
    "id": "tr4I-Jwn_rlG"
   },
   "source": [
    "Let's plot an image example for each possible class (i.e. digits from 0 to 9)."
   ]
  },
  {
   "cell_type": "code",
   "execution_count": 27,
   "metadata": {
    "id": "jiC-adzw_uku"
   },
   "outputs": [],
   "source": [
    "def get_random_element_with_label (data, lbls, lbl):\n",
    "  \"\"\"Returns one numpy array (one column) with an example of a choosen label.\"\"\"\n",
    "  \n",
    "  tmp = lbls == lbl\n",
    "  subset = data[tmp.flatten(), :]\n",
    "  return subset[randint(0, subset.shape[0]), :]"
   ]
  },
  {
   "cell_type": "code",
   "execution_count": 28,
   "metadata": {
    "id": "vASz2W66_vFl"
   },
   "outputs": [],
   "source": [
    "# The following line is needed to reshape the training dataset \n",
    "# (to plot some image examples)\n",
    "input_example = input_train.reshape(60000, 784)"
   ]
  },
  {
   "cell_type": "code",
   "execution_count": 29,
   "metadata": {
    "id": "96znRF-9_wuh"
   },
   "outputs": [],
   "source": [
    "# The following code create a numpy array where in column 0 you will find \n",
    "# an example of label 0, in column 1 of label 1 and so on.\n",
    "labels_overview = np.empty([784, 10])\n",
    "for i in range (0, 10):\n",
    "    col = get_random_element_with_label(input_example, target_train, i)\n",
    "    labels_overview[:,i] = col"
   ]
  },
  {
   "cell_type": "code",
   "execution_count": 30,
   "metadata": {
    "colab": {
     "base_uri": "https://localhost:8080/",
     "height": 862
    },
    "executionInfo": {
     "elapsed": 3415,
     "status": "ok",
     "timestamp": 1615226494420,
     "user": {
      "displayName": "Michela Sperti",
      "photoUrl": "https://lh3.googleusercontent.com/a-/AOh14Gh7mD9r-1Xj0Qve63ZPZx9UHRv0PkVhL5ayiHNv=s64",
      "userId": "13210266879998244642"
     },
     "user_tz": -60
    },
    "id": "6eZz6RlL_y4A",
    "outputId": "eaef274a-8754-4d96-dce8-c201b2bb1f21"
   },
   "outputs": [
    {
     "data": {
      "image/png": "[encoded data removed]",
      "text/plain": [
       "<Figure size 1080x1080 with 10 Axes>"
      ]
     },
     "metadata": {
      "needs_background": "light"
     },
     "output_type": "display_data"
    }
   ],
   "source": [
    "f = plt.figure(figsize = (15, 15))\n",
    "count = 1\n",
    "for i in range(0, 10):\n",
    "  plt.gray()\n",
    "  plt.subplot(5, 2, count)\n",
    "  count = count + 1\n",
    "  plt.subplots_adjust(hspace = 0.5)\n",
    "  plt.title('Digit: ' + str(i))\n",
    "  some_digit_image = labels_overview[:, i]\n",
    "  plt.imshow(some_digit_image.reshape(28, 28))\n",
    "  plt.axis('off')\n",
    "  pass"
   ]
  },
  {
   "cell_type": "markdown",
   "metadata": {
    "id": "piG2KgRbiIl6"
   },
   "source": [
    "## Adding Noise to the Dataset"
   ]
  },
  {
   "cell_type": "markdown",
   "metadata": {
    "id": "ABXvaRHZiatd"
   },
   "source": [
    "We know add a source of noise to the MNIST images (by means of `np.random.normal` function), since our objective will be to remove the same noise from them."
   ]
  },
  {
   "cell_type": "code",
   "execution_count": 31,
   "metadata": {
    "id": "0g8GDDmVLRj0"
   },
   "outputs": [],
   "source": [
    "noise_factor = 0.55\n",
    "pure = input_train\n",
    "pure_test = input_test\n",
    "noise = np.random.normal(0, 1, pure.shape)\n",
    "noise_test = np.random.normal(0, 1, pure_test.shape)\n",
    "noisy_input = pure + noise_factor * noise\n",
    "noisy_input_test = pure_test + noise_factor * noise_test"
   ]
  },
  {
   "cell_type": "markdown",
   "metadata": {
    "id": "gAPST0Y7_4ob"
   },
   "source": [
    "Now, let's plot some examples of images corrupted by noise (one for each class, as in the figure above)."
   ]
  },
  {
   "cell_type": "code",
   "execution_count": 32,
   "metadata": {
    "id": "U1eMe_SL_5ns"
   },
   "outputs": [],
   "source": [
    "# The following line is needed to reshape the training dataset \n",
    "# (to plot some image examples)\n",
    "input_example_noise = noisy_input.reshape(60000, 784)"
   ]
  },
  {
   "cell_type": "code",
   "execution_count": 33,
   "metadata": {
    "id": "lZrPemCv_7g2"
   },
   "outputs": [],
   "source": [
    "# The following code create a numpy array where in column 0 you will find \n",
    "# an example of label 0, in column 1 of label 1 and so on.\n",
    "labels_overview = np.empty([784, 10])\n",
    "for i in range (0, 10):\n",
    "    col = get_random_element_with_label(input_example_noise, target_train, i)\n",
    "    labels_overview[:,i] = col"
   ]
  },
  {
   "cell_type": "code",
   "execution_count": 34,
   "metadata": {
    "colab": {
     "base_uri": "https://localhost:8080/",
     "height": 862
    },
    "executionInfo": {
     "elapsed": 6403,
     "status": "ok",
     "timestamp": 1615226497420,
     "user": {
      "displayName": "Michela Sperti",
      "photoUrl": "https://lh3.googleusercontent.com/a-/AOh14Gh7mD9r-1Xj0Qve63ZPZx9UHRv0PkVhL5ayiHNv=s64",
      "userId": "13210266879998244642"
     },
     "user_tz": -60
    },
    "id": "CRrrw1We_8_2",
    "outputId": "cacb98a7-8b28-4a35-dac5-384b021a6adf"
   },
   "outputs": [
    {
     "data": {
      "image/png": "[encoded data removed]",
      "text/plain": [
       "<Figure size 1080x1080 with 10 Axes>"
      ]
     },
     "metadata": {
      "needs_background": "light"
     },
     "output_type": "display_data"
    }
   ],
   "source": [
    "f = plt.figure(figsize = (15, 15))\n",
    "count = 1\n",
    "for i in range(0, 10):\n",
    "  plt.gray()\n",
    "  plt.subplot(5, 2, count)\n",
    "  count = count + 1\n",
    "  plt.subplots_adjust(hspace = 0.5)\n",
    "  plt.title('Digit: ' + str(i))\n",
    "  some_digit_image = labels_overview[:, i]\n",
    "  plt.imshow(some_digit_image.reshape(28, 28))\n",
    "  plt.axis('off')\n",
    "  pass"
   ]
  },
  {
   "cell_type": "markdown",
   "metadata": {
    "id": "L72cifjZhkwP"
   },
   "source": [
    "## Autoencoder with Feed-Forward Neural Networks"
   ]
  },
  {
   "cell_type": "markdown",
   "metadata": {
    "id": "q07CBFI9iyQ5"
   },
   "source": [
    "Now we need to create the ```keras``` models. An autoencoder is made of two main parts: an _encoder_ and a _decoder_. The function below ```create_autoencoders()``` returns the following parts as separate models:\n",
    "\n",
    "- the encoder \n",
    "- the decoder\n",
    "- the complete model, when the encoder and decoder are joined in one model."
   ]
  },
  {
   "cell_type": "code",
   "execution_count": 35,
   "metadata": {
    "id": "d_sJPtlii8rA"
   },
   "outputs": [],
   "source": [
    "def create_autoencoders(feature_layer_dim = 16):\n",
    "\n",
    "  input_img = Input(shape = (784,), name = 'Input_Layer')\n",
    "  # 784 is the total number of pixels of MNIST images\n",
    "  \n",
    "  # The layer encoded has a dimension equal to feature_layer_dim and contains\n",
    "  # the encoded input (therefore the name)\n",
    "  encoded = Dense(feature_layer_dim, activation = 'relu', name = 'Encoded_Features')(input_img)\n",
    "  decoded = Dense(784, activation = 'sigmoid', name = 'Decoded_Input')(encoded)\n",
    "\n",
    "  autoencoder = Model(input_img, decoded)\n",
    "  encoder = Model(input_img, encoded)\n",
    "\n",
    "  encoded_input = Input(shape = (feature_layer_dim,))\n",
    "  decoder = autoencoder.layers[-1]\n",
    "  decoder = Model(encoded_input, decoder(encoded_input))\n",
    "\n",
    "  return autoencoder, encoder, decoder"
   ]
  },
  {
   "cell_type": "code",
   "execution_count": 43,
   "metadata": {
    "id": "ObIjY7x8LVMU"
   },
   "outputs": [],
   "source": [
    "# 32 is the number of latent features of our autoencoder\n",
    "autoencoder, encoder, decoder = create_autoencoders(64) "
   ]
  },
  {
   "cell_type": "code",
   "execution_count": 44,
   "metadata": {
    "colab": {
     "base_uri": "https://localhost:8080/"
    },
    "executionInfo": {
     "elapsed": 11537,
     "status": "ok",
     "timestamp": 1615226502573,
     "user": {
      "displayName": "Michela Sperti",
      "photoUrl": "https://lh3.googleusercontent.com/a-/AOh14Gh7mD9r-1Xj0Qve63ZPZx9UHRv0PkVhL5ayiHNv=s64",
      "userId": "13210266879998244642"
     },
     "user_tz": -60
    },
    "id": "Qt94yvSJjxr8",
    "outputId": "60706e80-92ec-415d-f8ef-0fa16aa0aac1"
   },
   "outputs": [
    {
     "name": "stdout",
     "output_type": "stream",
     "text": [
      "Model: \"model_6\"\n",
      "_________________________________________________________________\n",
      " Layer (type)                Output Shape              Param #   \n",
      "=================================================================\n",
      " Input_Layer (InputLayer)    [(None, 784)]             0         \n",
      "                                                                 \n",
      " Encoded_Features (Dense)    (None, 64)                50240     \n",
      "                                                                 \n",
      " Decoded_Input (Dense)       (None, 784)               50960     \n",
      "                                                                 \n",
      "=================================================================\n",
      "Total params: 101,200\n",
      "Trainable params: 101,200\n",
      "Non-trainable params: 0\n",
      "_________________________________________________________________\n"
     ]
    }
   ],
   "source": [
    "autoencoder.summary()"
   ]
  },
  {
   "cell_type": "code",
   "execution_count": 45,
   "metadata": {
    "colab": {
     "base_uri": "https://localhost:8080/",
     "height": 312
    },
    "executionInfo": {
     "elapsed": 12015,
     "status": "ok",
     "timestamp": 1615226503062,
     "user": {
      "displayName": "Michela Sperti",
      "photoUrl": "https://lh3.googleusercontent.com/a-/AOh14Gh7mD9r-1Xj0Qve63ZPZx9UHRv0PkVhL5ayiHNv=s64",
      "userId": "13210266879998244642"
     },
     "user_tz": -60
    },
    "id": "KOITmaI4jzKl",
    "outputId": "0eb547a7-bb0b-46aa-e934-25e5d190fd9e"
   },
   "outputs": [
    {
     "data": {
      "image/png": "[encoded data removed]",
      "text/plain": [
       "<IPython.core.display.Image object>"
      ]
     },
     "execution_count": 45,
     "metadata": {},
     "output_type": "execute_result"
    }
   ],
   "source": [
    "plot_model(autoencoder, show_shapes = True)"
   ]
  },
  {
   "cell_type": "markdown",
   "metadata": {
    "id": "kZr3qpqQj7zL"
   },
   "source": [
    "As for any Keras model we need to compile the model and then fit it to the data. As you can see we don't need any custom code to work with autoencoders. A simple model **definition** $\\rightarrow$ **compile** $\\rightarrow$ **fit** is enough."
   ]
  },
  {
   "cell_type": "code",
   "execution_count": 46,
   "metadata": {
    "id": "i33gwUO9LGkY"
   },
   "outputs": [],
   "source": [
    "# Model configuration\n",
    "batch_size = 150\n",
    "no_epochs = 30\n",
    "validation_split = 0.2"
   ]
  },
  {
   "cell_type": "code",
   "execution_count": null,
   "metadata": {
    "colab": {
     "base_uri": "https://localhost:8080/"
    },
    "executionInfo": {
     "elapsed": 40477,
     "status": "ok",
     "timestamp": 1615226531536,
     "user": {
      "displayName": "Michela Sperti",
      "photoUrl": "https://lh3.googleusercontent.com/a-/AOh14Gh7mD9r-1Xj0Qve63ZPZx9UHRv0PkVhL5ayiHNv=s64",
      "userId": "13210266879998244642"
     },
     "user_tz": -60
    },
    "id": "6zDNq0Hwjep6",
    "outputId": "8a3bbcd7-7cf5-4a9b-f264-3b89226e4570"
   },
   "outputs": [
    {
     "name": "stdout",
     "output_type": "stream",
     "text": [
      "Epoch 1/30\n",
      "320/320 [==============================] - 1s 4ms/step - loss: 0.2395 - val_loss: 0.1710\n",
      "Epoch 2/30\n",
      "320/320 [==============================] - 1s 4ms/step - loss: 0.1556 - val_loss: 0.1448\n",
      "Epoch 3/30\n",
      "320/320 [==============================] - 1s 4ms/step - loss: 0.1373 - val_loss: 0.1334\n",
      "Epoch 4/30\n",
      "320/320 [==============================] - 1s 4ms/step - loss: 0.1284 - val_loss: 0.1276\n",
      "Epoch 5/30\n",
      " 46/320 [===>..........................] - ETA: 0s - loss: 0.1237"
     ]
    }
   ],
   "source": [
    "# Compile and fit data\n",
    "autoencoder.compile(optimizer = 'adam', loss = 'binary_crossentropy')\n",
    "autoencoder.fit(noisy_input, pure,\n",
    "                epochs = no_epochs,\n",
    "                batch_size = batch_size,\n",
    "                validation_split = validation_split)"
   ]
  },
  {
   "cell_type": "markdown",
   "metadata": {
    "id": "w9m6GES1muBD"
   },
   "source": [
    "## Examples of Denoised Images"
   ]
  },
  {
   "cell_type": "markdown",
   "metadata": {
    "id": "De9Y9gXSnKrC"
   },
   "source": [
    "Now we plot some examples of denoised images, comparing them with the original pure images, to see how well the built autoencoder behaves."
   ]
  },
  {
   "cell_type": "code",
   "execution_count": null,
   "metadata": {
    "id": "LxP0ECkYnWyv"
   },
   "outputs": [],
   "source": [
    "# Generate denoised images\n",
    "number_of_visualizations = 6\n",
    "samples = noisy_input_test[:number_of_visualizations]\n",
    "targets = target_test[:number_of_visualizations]\n",
    "denoised_images = autoencoder.predict(samples)"
   ]
  },
  {
   "cell_type": "code",
   "execution_count": null,
   "metadata": {
    "colab": {
     "base_uri": "https://localhost:8080/",
     "height": 1000
    },
    "executionInfo": {
     "elapsed": 41587,
     "status": "ok",
     "timestamp": 1615226532659,
     "user": {
      "displayName": "Michela Sperti",
      "photoUrl": "https://lh3.googleusercontent.com/a-/AOh14Gh7mD9r-1Xj0Qve63ZPZx9UHRv0PkVhL5ayiHNv=s64",
      "userId": "13210266879998244642"
     },
     "user_tz": -60
    },
    "id": "7V9LkCV2LZwq",
    "outputId": "12e07f4d-e9ce-4040-c5d2-9e315392b304"
   },
   "outputs": [],
   "source": [
    "# Plot denoised images\n",
    "for i in range(0, number_of_visualizations):\n",
    "  plt.gray()\n",
    "  # Get the sample and the reconstruction\n",
    "  noisy_image = noisy_input_test[i].reshape(28, 28)\n",
    "  pure_image  = pure_test[i].reshape(28, 28)\n",
    "  denoised_image = denoised_images[i].reshape(28, 28)\n",
    "  input_class = targets[i]\n",
    "  # Matplotlib preparations\n",
    "  fig, axes = plt.subplots(1, 3)\n",
    "  fig.set_size_inches(12, 7)\n",
    "  # Plot sample and reconstruciton\n",
    "  axes[0].imshow(noisy_image)\n",
    "  axes[0].set_title('Noisy image', fontsize = 16)\n",
    "  axes[0].get_xaxis().set_visible(False)\n",
    "  axes[0].get_yaxis().set_visible(False)\n",
    "  axes[1].imshow(pure_image)\n",
    "  axes[1].set_title('Pure image', fontsize = 16)\n",
    "  axes[1].get_xaxis().set_visible(False)\n",
    "  axes[1].get_yaxis().set_visible(False)\n",
    "  axes[2].imshow(denoised_image)\n",
    "  axes[2].set_title('Denoised image', fontsize = 16)\n",
    "  axes[2].get_xaxis().set_visible(False)\n",
    "  axes[2].get_yaxis().set_visible(False)\n",
    "  plt.show()"
   ]
  },
  {
   "cell_type": "markdown",
   "metadata": {
    "id": "4gLDHJldACe4"
   },
   "source": [
    "As you can see from the above figure, the model we built can reconstruct the original version of noisy digit images. If you have new noisy images of the same type you can apply the model to them and de-noise the same images.\n",
    "\n",
    "If you compare this last figure with the last figure of Denoising_autoencoders_with_CNN.ipynb notebook, you can notice that CNNs are better suited to this kind of task. In fact, they are specifically designed for working with images, more than FFNNs."
   ]
  },
  {
   "cell_type": "code",
   "execution_count": null,
   "metadata": {
    "id": "HQclGNetLnmN"
   },
   "outputs": [],
   "source": []
  }
 ],
 "metadata": {
  "accelerator": "GPU",
  "colab": {
   "collapsed_sections": [],
   "name": "Denoising_autoencoders_with_FFNN.ipynb",
   "provenance": [],
   "toc_visible": true
  },
  "kernelspec": {
   "display_name": "Python 3 (ipykernel)",
   "language": "python",
   "name": "python3"
  },
  "language_info": {
   "codemirror_mode": {
    "name": "ipython",
    "version": 3
   },
   "file_extension": ".py",
   "mimetype": "text/x-python",
   "name": "python",
   "nbconvert_exporter": "python",
   "pygments_lexer": "ipython3",
   "version": "3.7.2"
  }
 },
 "nbformat": 4,
 "nbformat_minor": 4
}
